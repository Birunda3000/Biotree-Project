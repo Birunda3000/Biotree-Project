{
 "cells": [
  {
   "cell_type": "markdown",
   "id": "8ff2b771-9999-4e36-ab63-fd409322cfa8",
   "metadata": {
    "tags": []
   },
   "source": [
    "mais antigo no meio"
   ]
  },
  {
   "cell_type": "code",
   "execution_count": 1,
   "id": "c24b9a64-655d-4ca2-8d4b-30c110e305a2",
   "metadata": {
    "tags": []
   },
   "outputs": [
    {
     "data": {
      "text/html": [
       "<div>\n",
       "<style scoped>\n",
       "    .dataframe tbody tr th:only-of-type {\n",
       "        vertical-align: middle;\n",
       "    }\n",
       "\n",
       "    .dataframe tbody tr th {\n",
       "        vertical-align: top;\n",
       "    }\n",
       "\n",
       "    .dataframe thead th {\n",
       "        text-align: right;\n",
       "    }\n",
       "</style>\n",
       "<table border=\"1\" class=\"dataframe\">\n",
       "  <thead>\n",
       "    <tr style=\"text-align: right;\">\n",
       "      <th></th>\n",
       "      <th>id</th>\n",
       "      <th>nome</th>\n",
       "      <th>inicio</th>\n",
       "      <th>fim</th>\n",
       "      <th>antepassado</th>\n",
       "    </tr>\n",
       "  </thead>\n",
       "  <tbody>\n",
       "    <tr>\n",
       "      <th>0</th>\n",
       "      <td>1</td>\n",
       "      <td>A</td>\n",
       "      <td>16</td>\n",
       "      <td>14</td>\n",
       "      <td>NaN</td>\n",
       "    </tr>\n",
       "    <tr>\n",
       "      <th>1</th>\n",
       "      <td>2</td>\n",
       "      <td>B</td>\n",
       "      <td>15</td>\n",
       "      <td>11</td>\n",
       "      <td>1</td>\n",
       "    </tr>\n",
       "    <tr>\n",
       "      <th>2</th>\n",
       "      <td>3</td>\n",
       "      <td>C</td>\n",
       "      <td>14</td>\n",
       "      <td>13</td>\n",
       "      <td>1</td>\n",
       "    </tr>\n",
       "    <tr>\n",
       "      <th>3</th>\n",
       "      <td>4</td>\n",
       "      <td>D</td>\n",
       "      <td>14</td>\n",
       "      <td>11</td>\n",
       "      <td>1</td>\n",
       "    </tr>\n",
       "    <tr>\n",
       "      <th>4</th>\n",
       "      <td>5</td>\n",
       "      <td>E</td>\n",
       "      <td>13</td>\n",
       "      <td>10</td>\n",
       "      <td>3</td>\n",
       "    </tr>\n",
       "    <tr>\n",
       "      <th>5</th>\n",
       "      <td>6</td>\n",
       "      <td>F</td>\n",
       "      <td>13</td>\n",
       "      <td>12</td>\n",
       "      <td>3</td>\n",
       "    </tr>\n",
       "    <tr>\n",
       "      <th>6</th>\n",
       "      <td>7</td>\n",
       "      <td>G</td>\n",
       "      <td>12</td>\n",
       "      <td>7</td>\n",
       "      <td>[2 5]</td>\n",
       "    </tr>\n",
       "    <tr>\n",
       "      <th>7</th>\n",
       "      <td>8</td>\n",
       "      <td>H</td>\n",
       "      <td>13</td>\n",
       "      <td>0</td>\n",
       "      <td>3</td>\n",
       "    </tr>\n",
       "    <tr>\n",
       "      <th>8</th>\n",
       "      <td>9</td>\n",
       "      <td>I</td>\n",
       "      <td>7</td>\n",
       "      <td>3</td>\n",
       "      <td>7</td>\n",
       "    </tr>\n",
       "    <tr>\n",
       "      <th>9</th>\n",
       "      <td>10</td>\n",
       "      <td>J</td>\n",
       "      <td>5</td>\n",
       "      <td>2</td>\n",
       "      <td>9</td>\n",
       "    </tr>\n",
       "    <tr>\n",
       "      <th>10</th>\n",
       "      <td>11</td>\n",
       "      <td>K</td>\n",
       "      <td>4</td>\n",
       "      <td>0</td>\n",
       "      <td>9</td>\n",
       "    </tr>\n",
       "    <tr>\n",
       "      <th>11</th>\n",
       "      <td>12</td>\n",
       "      <td>L</td>\n",
       "      <td>15</td>\n",
       "      <td>13</td>\n",
       "      <td>NaN</td>\n",
       "    </tr>\n",
       "    <tr>\n",
       "      <th>12</th>\n",
       "      <td>13</td>\n",
       "      <td>M</td>\n",
       "      <td>16</td>\n",
       "      <td>11</td>\n",
       "      <td>NaN</td>\n",
       "    </tr>\n",
       "    <tr>\n",
       "      <th>13</th>\n",
       "      <td>14</td>\n",
       "      <td>N</td>\n",
       "      <td>13</td>\n",
       "      <td>9</td>\n",
       "      <td>[12 13]</td>\n",
       "    </tr>\n",
       "  </tbody>\n",
       "</table>\n",
       "</div>"
      ],
      "text/plain": [
       "    id nome  inicio  fim antepassado\n",
       "0    1    A      16   14         NaN\n",
       "1    2    B      15   11           1\n",
       "2    3    C      14   13           1\n",
       "3    4    D      14   11           1\n",
       "4    5    E      13   10           3\n",
       "5    6    F      13   12           3\n",
       "6    7    G      12    7       [2 5]\n",
       "7    8    H      13    0           3\n",
       "8    9    I       7    3           7\n",
       "9   10    J       5    2           9\n",
       "10  11    K       4    0           9\n",
       "11  12    L      15   13         NaN\n",
       "12  13    M      16   11         NaN\n",
       "13  14    N      13    9     [12 13]"
      ]
     },
     "execution_count": 1,
     "metadata": {},
     "output_type": "execute_result"
    }
   ],
   "source": [
    "import pandas as pd\n",
    "import numpy as np\n",
    "import matplotlib.pyplot as plt\n",
    "import seaborn as sns\n",
    "df = pd.read_csv(r'bio-t.csv')\n",
    "#df.columns\n",
    "#df.set_index('id', inplace=True)\n",
    "#df\n",
    "df"
   ]
  },
  {
   "cell_type": "code",
   "execution_count": 2,
   "id": "91962846-0d50-4c28-9198-6d4b2a4900f5",
   "metadata": {
    "tags": []
   },
   "outputs": [],
   "source": [
    "nome = df['nome'].to_list()\n",
    "origem = df['inicio'].to_list()\n",
    "extinção = df['fim'].to_list()\n",
    "id_ = df['id'].to_list()"
   ]
  },
  {
   "cell_type": "code",
   "execution_count": 3,
   "id": "b162d5a2-effa-4951-bc77-bd624f6efc60",
   "metadata": {
    "tags": []
   },
   "outputs": [
    {
     "name": "stdout",
     "output_type": "stream",
     "text": [
      "['A', -16, -14, 0, 1]\n",
      "['B', -15, -11, 1, 2]\n",
      "['C', -14, -13, 2, 3]\n",
      "['D', -14, -11, 3, 4]\n",
      "['E', -13, -10, 4, 5]\n",
      "['F', -13, -12, 5, 6]\n",
      "['G', -12, -7, 6, 7]\n",
      "['H', -13, 0, 7, 8]\n",
      "['I', -7, -3, 8, 9]\n",
      "['J', -5, -2, 9, 10]\n",
      "['K', -4, 0, 10, 11]\n",
      "['L', -15, -13, 11, 12]\n",
      "['M', -16, -11, 12, 13]\n",
      "['N', -13, -9, 13, 14]\n"
     ]
    }
   ],
   "source": [
    "tree_data = []\n",
    "for i in range(len(nome)):    \n",
    "    tree_data.append([nome[i], -origem[i], -extinção[i], i, id_[i]])\n",
    "for es in tree_data:\n",
    "    print(es)"
   ]
  },
  {
   "cell_type": "markdown",
   "id": "6b18cb0b-305d-42ef-9849-3779b4925c25",
   "metadata": {
    "tags": []
   },
   "source": [
    "algoritmo de ordenação, sera exibido nesta ordem"
   ]
  },
  {
   "cell_type": "code",
   "execution_count": 4,
   "id": "df15b194-95d6-47c6-9235-7707be7b633c",
   "metadata": {
    "tags": []
   },
   "outputs": [],
   "source": [
    "def sort_func2(item):\n",
    "    return item[1]\n",
    "def tree_ord(tree_list):\n",
    "    \n",
    "    tree_list.sort(key=sort_func2)\n",
    "    tree_list_ord = []\n",
    "    aux = False\n",
    "    \n",
    "    while len(tree_list) >= 1:\n",
    "        \n",
    "        if aux:\n",
    "            \n",
    "            tree_list_ord.insert(0, tree_list.pop(0)) #remove o index 0 e adiciona no inicio\n",
    "            aux = False\n",
    "        else:\n",
    "            tree_list_ord.append(tree_list.pop(0))\n",
    "            aux = True\n",
    "            \n",
    "    return tree_list_ord"
   ]
  },
  {
   "cell_type": "code",
   "execution_count": 5,
   "id": "b2f42496-b445-45e2-be70-bf23ad137e55",
   "metadata": {
    "tags": []
   },
   "outputs": [],
   "source": [
    "tree_data = tree_ord(tree_data)"
   ]
  },
  {
   "cell_type": "code",
   "execution_count": 6,
   "id": "053c33ba-a521-404b-a027-898a4255cac6",
   "metadata": {
    "tags": []
   },
   "outputs": [],
   "source": [
    "x = []\n",
    "origem = []\n",
    "extinção = []\n",
    "nome = []\n",
    "id_ = []\n",
    "for i in range(len(tree_data)):  \n",
    "    nome.append(tree_data[i][0])\n",
    "    origem.append(tree_data[i][1])\n",
    "    extinção.append(tree_data[i][2])\n",
    "    x.append(i)\n",
    "    id_.append(tree_data[i][4])"
   ]
  },
  {
   "cell_type": "code",
   "execution_count": 7,
   "id": "74a4df6d-7cd2-44f9-80d8-ae502422aa94",
   "metadata": {
    "tags": []
   },
   "outputs": [
    {
     "name": "stdout",
     "output_type": "stream",
     "text": [
      "['K', 'I', 'N', 'F', 'D', 'L', 'M', 'A', 'B', 'C', 'E', 'H', 'G', 'J']\n",
      "[-4, -7, -13, -13, -14, -15, -16, -16, -15, -14, -13, -13, -12, -5]\n",
      "[0, -3, -9, -12, -11, -13, -11, -14, -11, -13, -10, 0, -7, -2]\n",
      "[0, 1, 2, 3, 4, 5, 6, 7, 8, 9, 10, 11, 12, 13]\n",
      "[11, 9, 14, 6, 4, 12, 13, 1, 2, 3, 5, 8, 7, 10]\n"
     ]
    }
   ],
   "source": [
    "print(nome)\n",
    "print(origem)\n",
    "print(extinção)\n",
    "print(x)\n",
    "print(id_)"
   ]
  },
  {
   "cell_type": "code",
   "execution_count": 8,
   "id": "096af0ea-64a1-44ae-83b4-a05aff32136e",
   "metadata": {
    "tags": []
   },
   "outputs": [
    {
     "data": {
      "text/html": [
       "<div>\n",
       "<style scoped>\n",
       "    .dataframe tbody tr th:only-of-type {\n",
       "        vertical-align: middle;\n",
       "    }\n",
       "\n",
       "    .dataframe tbody tr th {\n",
       "        vertical-align: top;\n",
       "    }\n",
       "\n",
       "    .dataframe thead th {\n",
       "        text-align: right;\n",
       "    }\n",
       "</style>\n",
       "<table border=\"1\" class=\"dataframe\">\n",
       "  <thead>\n",
       "    <tr style=\"text-align: right;\">\n",
       "      <th></th>\n",
       "      <th>D-ID</th>\n",
       "      <th>O-ID</th>\n",
       "    </tr>\n",
       "  </thead>\n",
       "  <tbody>\n",
       "    <tr>\n",
       "      <th>0</th>\n",
       "      <td>2</td>\n",
       "      <td>1.0</td>\n",
       "    </tr>\n",
       "    <tr>\n",
       "      <th>1</th>\n",
       "      <td>3</td>\n",
       "      <td>1.0</td>\n",
       "    </tr>\n",
       "    <tr>\n",
       "      <th>2</th>\n",
       "      <td>4</td>\n",
       "      <td>1.0</td>\n",
       "    </tr>\n",
       "    <tr>\n",
       "      <th>3</th>\n",
       "      <td>5</td>\n",
       "      <td>3.0</td>\n",
       "    </tr>\n",
       "    <tr>\n",
       "      <th>4</th>\n",
       "      <td>6</td>\n",
       "      <td>3.0</td>\n",
       "    </tr>\n",
       "    <tr>\n",
       "      <th>5</th>\n",
       "      <td>7</td>\n",
       "      <td>2.0</td>\n",
       "    </tr>\n",
       "    <tr>\n",
       "      <th>6</th>\n",
       "      <td>7</td>\n",
       "      <td>5.0</td>\n",
       "    </tr>\n",
       "    <tr>\n",
       "      <th>7</th>\n",
       "      <td>8</td>\n",
       "      <td>3.0</td>\n",
       "    </tr>\n",
       "    <tr>\n",
       "      <th>8</th>\n",
       "      <td>9</td>\n",
       "      <td>7.0</td>\n",
       "    </tr>\n",
       "    <tr>\n",
       "      <th>9</th>\n",
       "      <td>10</td>\n",
       "      <td>9.0</td>\n",
       "    </tr>\n",
       "    <tr>\n",
       "      <th>10</th>\n",
       "      <td>11</td>\n",
       "      <td>9.0</td>\n",
       "    </tr>\n",
       "    <tr>\n",
       "      <th>11</th>\n",
       "      <td>14</td>\n",
       "      <td>12.0</td>\n",
       "    </tr>\n",
       "    <tr>\n",
       "      <th>12</th>\n",
       "      <td>14</td>\n",
       "      <td>13.0</td>\n",
       "    </tr>\n",
       "  </tbody>\n",
       "</table>\n",
       "</div>"
      ],
      "text/plain": [
       "    D-ID  O-ID\n",
       "0      2   1.0\n",
       "1      3   1.0\n",
       "2      4   1.0\n",
       "3      5   3.0\n",
       "4      6   3.0\n",
       "5      7   2.0\n",
       "6      7   5.0\n",
       "7      8   3.0\n",
       "8      9   7.0\n",
       "9     10   9.0\n",
       "10    11   9.0\n",
       "11    14  12.0\n",
       "12    14  13.0"
      ]
     },
     "execution_count": 8,
     "metadata": {},
     "output_type": "execute_result"
    }
   ],
   "source": [
    "df = pd.read_csv(r'bio-relate.csv')\n",
    "df = df.dropna().reset_index(drop=True)\n",
    "df"
   ]
  },
  {
   "cell_type": "code",
   "execution_count": 9,
   "id": "2a9a765a-1aa2-446a-8650-1590b173ad32",
   "metadata": {
    "tags": []
   },
   "outputs": [
    {
     "name": "stdout",
     "output_type": "stream",
     "text": [
      "['A', -16, -14, 0, 1]\n",
      "['B', -15, -11, 1, 2]\n"
     ]
    }
   ],
   "source": [
    "'''nome = np.array(nome)\n",
    "origem = np.array(origem)\n",
    "extinção = np.array(extinção)\n",
    "x = np.array(x)\n",
    "id_ = np.array(id_)'''\n",
    "print(tree_data[7])\n",
    "print(tree_data[8])"
   ]
  },
  {
   "cell_type": "code",
   "execution_count": 10,
   "id": "c95c13dc-44e1-4f97-aaf2-a27b13b06194",
   "metadata": {
    "tags": []
   },
   "outputs": [
    {
     "data": {
      "text/plain": [
       "\"    print(x[des])\\n    print(origem[des])\\n    \\n    print(x[ori])\\n    print(origem[des])\\n    print('----------------------')\\n    \\n    x_o | (x_o-x_d)\\n    y_l | 0\\n    \\n    \\n    y_l2 = np.concatenate((y_l,y_l))\\n    \""
      ]
     },
     "execution_count": 10,
     "metadata": {},
     "output_type": "execute_result"
    }
   ],
   "source": [
    "O = df['O-ID'].to_list()\n",
    "D = df['D-ID'].to_list()\n",
    "\n",
    "x_o = []\n",
    "x_d = []\n",
    "y_l = []\n",
    "dy= []\n",
    "\n",
    "tree_r_data = []\n",
    "for i in range(len(O)):    \n",
    "    tree_r_data.append([O[i], D[i]])\n",
    "for es in tree_r_data:\n",
    "    \n",
    "    '''print(es)\n",
    "    print(id_.index(es[0]))\n",
    "    print(id_.index(es[1]))'''\n",
    "    \n",
    "    ori = id_.index(es[0])\n",
    "    des = id_.index(es[1])\n",
    "    \n",
    "    '''print(nome[ori])\n",
    "    print(nome[des])'''\n",
    "    \n",
    "    \n",
    "    x_o.append(x[ori])\n",
    "    x_d.append(x[des])\n",
    "    \n",
    "    dy.append(0)\n",
    "    \n",
    "    y_l.append(origem[des])\n",
    "    \n",
    "'''    print(x[des])\n",
    "    print(origem[des])\n",
    "    \n",
    "    print(x[ori])\n",
    "    print(origem[des])\n",
    "    print('----------------------')\n",
    "    \n",
    "    x_o | (x_o-x_d)\n",
    "    y_l | 0\n",
    "    \n",
    "    \n",
    "    y_l2 = np.concatenate((y_l,y_l))\n",
    "    '''"
   ]
  },
  {
   "cell_type": "code",
   "execution_count": 11,
   "id": "768b8bca-7b9a-4da7-a90b-40469dd7bfd8",
   "metadata": {
    "tags": []
   },
   "outputs": [
    {
     "name": "stdout",
     "output_type": "stream",
     "text": [
      "26\n"
     ]
    }
   ],
   "source": [
    "# [x1 , x2]\n",
    "# [y1 , y2]\n",
    "origem = np.array(origem)\n",
    "extinção = np.array(extinção)\n",
    "x = np.array(x)\n",
    "\n",
    "y_values_l = [y_l, y_l]\n",
    "x_values_l = [x_o, x_d]\n",
    "\n",
    "x_o = np.array(x_o)\n",
    "y_l = np.array(y_l)\n",
    "x_d = np.array(x_d)\n",
    "\n",
    "y_values_l = np.array(y_values_l)\n",
    "x_values_l = np.array(x_values_l)\n",
    "y_l2 = np.concatenate((y_l,y_l))\n",
    "\n",
    "y_values = [origem, extinção]\n",
    "x_values = [x,      x]\n",
    "print(len(y_l2))"
   ]
  },
  {
   "cell_type": "markdown",
   "id": "cfb2d055-3869-42ad-9b39-46301bee9a88",
   "metadata": {
    "tags": []
   },
   "source": [
    "x_o | (x_o-x_d)\n",
    "y_l | 0\n",
    "    \n",
    "y_l2 = np.concatenate((y_l,y_l))"
   ]
  },
  {
   "cell_type": "code",
   "execution_count": 12,
   "id": "8c10b559-83dc-434b-922d-ad672665ac5b",
   "metadata": {
    "tags": []
   },
   "outputs": [
    {
     "data": {
      "image/png": "[encoded data removed]",
      "text/plain": [
       "<Figure size 432x288 with 1 Axes>"
      ]
     },
     "metadata": {
      "needs_background": "light"
     },
     "output_type": "display_data"
    }
   ],
   "source": [
    "#printando com o algoritmo de antigo primeiro\n",
    "for i in range(len(origem)):\n",
    "    plt.annotate(str(nome[i]), (x[i], origem[i]))\n",
    "\n",
    "plt.plot(x_values, y_values)\n",
    "#plt.plot(x_values_l, y_values_l)\n",
    "\n",
    "colo = ['blue', 'orange', 'green', 'purple', 'brown', 'pink', 'gray', 'olive', 'cyan', 'black']\n",
    "\n",
    "colo = colo + colo + colo + colo +colo +colo +colo +colo +colo \n",
    "\n",
    "\n",
    "for i in range(len(x_o)):\n",
    "    plt.arrow(x_o[i], y_l2[i], x_d[i]-x_o[i], dy[i], length_includes_head=True, head_width=0.2, color='black')\n",
    "    plt.scatter(x_o[i],y_l2[i], marker='P',color='purple')#saida\n",
    "    plt.scatter(x_o[i]+x_d[i]-x_o[i], y_l2[i]+dy[i] , marker='o',color='black')#entrada\n",
    "    \n",
    "    \n",
    "\n",
    "plt.xlabel(\"id\")\n",
    "plt.ylabel(\"Ano\")\n",
    "plt.grid(which='both', linestyle='--')\n",
    "plt.show()"
   ]
  }
 ],
 "metadata": {
  "kernelspec": {
   "display_name": "Python 3",
   "language": "python",
   "name": "python3"
  },
  "language_info": {
   "codemirror_mode": {
    "name": "ipython",
    "version": 3
   },
   "file_extension": ".py",
   "mimetype": "text/x-python",
   "name": "python",
   "nbconvert_exporter": "python",
   "pygments_lexer": "ipython3",
   "version": "3.8.10"
  },
  "widgets": {
   "application/vnd.jupyter.widget-state+json": {
    "state": {},
    "version_major": 2,
    "version_minor": 0
   }
  }
 },
 "nbformat": 4,
 "nbformat_minor": 5
}
