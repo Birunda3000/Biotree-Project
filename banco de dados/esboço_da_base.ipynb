{
 "cells": [
  {
   "cell_type": "code",
   "execution_count": 1,
   "metadata": {},
   "outputs": [],
   "source": [
    "class taxon:\n",
    "    def __init__(self, origem : int, extinção : int, antepassado : str, descrição : str, imagens : list, nivel : str, nome : str, tags : list, nome_popular : str):\n",
    "        self.nome = nome #homo, canis, pan, chordata, plantae\n",
    "        self.nome_popular = nome_popular\n",
    "        self.nivel = nivel  #dominio, reino, filo, classe, ordem, familia, genero, especie, subespecie\n",
    "        self.origem = origem #ano de origem\n",
    "        self.extinção = extinção #ano de extinção ou none para ainda vivas\n",
    "        self.descrição = descrição #descrição do taxon\n",
    "        self.antepassado = antepassado # PK ou nome do antepassado\n",
    "        self.imagens = imagens # imagens do taxon\n",
    "        self.tags = tags #tags (carnivoro, sociais, parasitas...), tavez melhor como dict\n",
    "    def print_info(self):\n",
    "        for i in self.__dict__:\n",
    "            if i != 'imagens':\n",
    "                print(i, ': ', self.__dict__[i])\n",
    "            else:\n",
    "                print('--exibir imagens--')"
   ]
  },
  {
   "cell_type": "code",
   "execution_count": 2,
   "metadata": {
    "tags": []
   },
   "outputs": [
    {
     "name": "stdout",
     "output_type": "stream",
     "text": [
      "nome :  ximira\n",
      "nome_popular :  mamaco\n",
      "nivel :  dominio\n",
      "origem :  1000\n",
      "extinção :  2000\n",
      "descrição :  vivem perto de lagos e são bem pequenos\n",
      "antepassado :  xablau\n",
      "--exibir imagens--\n",
      "tags :  [['alimentação', 'carnivoro'], ['sociabilidade', 'sociais']]\n"
     ]
    }
   ],
   "source": [
    "t = taxon (origem = 1000, extinção = 2000, antepassado = 'xablau', descrição = 'vivem perto de lagos e são bem pequenos', imagens = [[ [0,1],[1,0] ],  [ [0,1],[1,0] ]], nivel = 'dominio', nome = 'ximira', tags = [['alimentação','carnivoro'],['sociabilidade','sociais']], nome_popular = 'mamaco')\n",
    "t.print_info()"
   ]
  },
  {
   "cell_type": "code",
   "execution_count": 3,
   "metadata": {},
   "outputs": [],
   "source": [
    "class dominio(taxon):\n",
    "    def __init__(self, origem : int, extinção : int, antepassado : str, descrição : str, imagens : list, nivel : str, nome : str):\n",
    "        taxon.__init__(self, origem, extinção, antepassado, descrição, imagenst, nivel, nome)\n",
    "\n",
    "class reino(taxon):\n",
    "    def __init__(self, origem : int, extinção : int, antepassado : str, descrição : str, imagens : list, nivel : str, nome : str, dominio : str):\n",
    "        taxon.__init__(self, origem, extinção, antepassado, descrição, imagenst, nivel, nome)\n",
    "        self.dominio = dominio # PK ou nome do taxon superior\n",
    "        \n",
    "class filo(taxon):\n",
    "    def __init__(self, origem : int, extinção : int, antepassado : str, descrição : str, imagens : list, nivel : str, nome : str, reino : str):\n",
    "        taxon.__init__(self, origem, extinção, antepassado, descrição, imagenst, nivel, nome)\n",
    "        self.reino = reino\n",
    "\n",
    "class classe(taxon):\n",
    "    def __init__(self, origem : int, extinção : int, antepassado : str, descrição : str, imagens : list, nivel : str, nome : str, filo : str):\n",
    "        taxon.__init__(self, origem, extinção, antepassado, descrição, imagenst, nivel, nome)\n",
    "        self.filo = filo\n",
    "        \n",
    "class ordem(taxon):\n",
    "    def __init__(self, origem : int, extinção : int, antepassado : str, descrição : str, imagens : list, nivel : str, nome : str, classe : str):\n",
    "        taxon.__init__(self, origem, extinção, antepassado, descrição, imagenst, nivel, nome)\n",
    "        self.classe = classe\n",
    "        \n",
    "class familia(taxon):\n",
    "    def __init__(self, origem : int, extinção : int, antepassado : str, descrição : str, imagens : list, nivel : str, nome : str, ordem : str):\n",
    "        taxon.__init__(self, origem, extinção, antepassado, descrição, imagenst, nivel, nome)\n",
    "        self.ordem = ordem\n",
    "        \n",
    "class genero(taxon):\n",
    "    def __init__(self, origem : int, extinção : int, antepassado : str, descrição : str, imagens : list, nivel : str, nome : str, familia : str):\n",
    "        taxon.__init__(self, origem, extinção, antepassado, descrição, imagenst, nivel, nome)\n",
    "        self.familia = familia\n",
    "\n",
    "class especie(taxon):\n",
    "    def __init__(self, origem : int, extinção : int, antepassado : str, descrição : str, imagens : list, nivel : str, epiteto_especifico : str, genero : str):\n",
    "        taxon.__init__(self, origem, extinção, antepassado, descrição, imagenst, nivel, epiteto_especifico)\n",
    "        self.nome = genero + ' ' + epiteto_especifico\n",
    "        self.genero = genero\n",
    "        self.epiteto_especifico = epiteto_especifico\n",
    "\n",
    "class subespecie(taxon):\n",
    "    def __init__(self, origem : int, extinção : int, antepassado : str, descrição : str, imagens : list, nivel : str, epiteto_subespecifico : str, especie : str, genero : str, epiteto_especifico : str):\n",
    "        taxon.__init__(self, origem, extinção, antepassado, descrição, imagenst, nivel, epiteto_subespecifico)\n",
    "        self.especie = especie\n",
    "        self.epiteto_subespecifico = epiteto_subespecifico\n",
    "        self.nome = genero + ' ' + epiteto_especifico + ' ' + epiteto_subespecifico"
   ]
  }
 ],
 "metadata": {
  "kernelspec": {
   "display_name": "Python 3",
   "language": "python",
   "name": "python3"
  },
  "language_info": {
   "codemirror_mode": {
    "name": "ipython",
    "version": 3
   },
   "file_extension": ".py",
   "mimetype": "text/x-python",
   "name": "python",
   "nbconvert_exporter": "python",
   "pygments_lexer": "ipython3",
   "version": "3.6.9"
  }
 },
 "nbformat": 4,
 "nbformat_minor": 4
}
